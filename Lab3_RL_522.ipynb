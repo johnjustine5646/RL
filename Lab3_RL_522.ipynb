{
  "nbformat": 4,
  "nbformat_minor": 0,
  "metadata": {
    "colab": {
      "provenance": [],
      "authorship_tag": "ABX9TyPQHVFeg7JT8EMwt8m29bBt",
      "include_colab_link": true
    },
    "kernelspec": {
      "name": "python3",
      "display_name": "Python 3"
    },
    "language_info": {
      "name": "python"
    }
  },
  "cells": [
    {
      "cell_type": "markdown",
      "metadata": {
        "id": "view-in-github",
        "colab_type": "text"
      },
      "source": [
        "<a href=\"https://colab.research.google.com/github/johnjustine5646/RL/blob/main/Lab3_RL_522.ipynb\" target=\"_parent\"><img src=\"https://colab.research.google.com/assets/colab-badge.svg\" alt=\"Open In Colab\"/></a>"
      ]
    },
    {
      "cell_type": "code",
      "execution_count": 1,
      "metadata": {
        "id": "d03mX0JwDlkT"
      },
      "outputs": [],
      "source": [
        "import numpy as np"
      ]
    },
    {
      "cell_type": "code",
      "source": [
        "\n",
        "class MDP:\n",
        "    def __init__(self, states, actions, transitions, rewards, gamma=0.9):\n",
        "        self.states = states\n",
        "        self.actions = actions\n",
        "        self.transitions = transitions\n",
        "        self.rewards = rewards\n",
        "        self.gamma = gamma\n",
        "        self.values = {s: 0 for s in states}  # Initialize value function to 0 for all states\n",
        "\n",
        "    def value_iteration(self, theta=0.0001):\n",
        "        while True:\n",
        "            delta = 0  # Initialize change in value function\n",
        "            for state in self.states:\n",
        "                if state not in self.transitions:  # Skip terminal states\n",
        "                    continue\n",
        "\n",
        "                # Find the maximum action value for the current state\n",
        "                max_value = float('-inf')\n",
        "                for action in self.actions:\n",
        "                    action_value = 0\n",
        "                    for prob, next_state in self.transitions[state][action]:\n",
        "                        reward = self.rewards[state][action]\n",
        "                        action_value += prob * (reward + self.gamma * self.values[next_state])\n",
        "                    max_value = max(max_value, action_value)\n",
        "\n",
        "                # Update value function and compute difference for convergence\n",
        "                delta = max(delta, abs(self.values[state] - max_value))\n",
        "                self.values[state] = max_value\n",
        "\n",
        "            # Check if values have converged\n",
        "            if delta < theta:\n",
        "                break\n",
        "\n",
        "    def get_policy(self):\n",
        "        policy = {}\n",
        "        for state in self.states:\n",
        "            if state not in self.transitions:  # Skip terminal states\n",
        "                policy[state] = None\n",
        "                continue\n",
        "\n",
        "            # Choose the best action based on the current value function\n",
        "            best_action = None\n",
        "            max_value = float('-inf')\n",
        "            for action in self.actions:\n",
        "                action_value = 0\n",
        "                for prob, next_state in self.transitions[state][action]:\n",
        "                    reward = self.rewards[state][action]\n",
        "                    action_value += prob * (reward + self.gamma * self.values[next_state])\n",
        "\n",
        "                if action_value > max_value:\n",
        "                    max_value = action_value\n",
        "                    best_action = action\n",
        "\n",
        "            policy[state] = best_action\n",
        "\n",
        "        return policy\n"
      ],
      "metadata": {
        "id": "oXxVs7jEKnep"
      },
      "execution_count": 2,
      "outputs": []
    },
    {
      "cell_type": "code",
      "source": [
        "states = ['s1', 's2', 's3', 'terminal']\n",
        "actions = ['a1', 'a2']\n",
        "transitions = {\n",
        "    's1': {\n",
        "        'a1': [(1.0, 's2')],\n",
        "        'a2': [(1.0, 's3')],\n",
        "    },\n",
        "    's2': {\n",
        "        'a1': [(1.0, 's1')],\n",
        "        'a2': [(1.0, 'terminal')],\n",
        "    },\n",
        "    's3': {\n",
        "        'a1': [(1.0, 'terminal')],\n",
        "        'a2': [(1.0, 's1')],\n",
        "    }\n",
        "}\n",
        "rewards = {\n",
        "    's1': {'a1': -1, 'a2': 0},\n",
        "    's2': {'a1': -1, 'a2': 1},\n",
        "    's3': {'a1': 1, 'a2': -1},\n",
        "}\n",
        "\n",
        "mdp = MDP(states, actions, transitions, rewards, gamma=0.9)\n",
        "mdp.value_iteration()\n",
        "policy = mdp.get_policy()\n",
        "\n",
        "print(\"Optimal Values:\", mdp.values)\n",
        "print(\"Optimal Policy:\", policy)"
      ],
      "metadata": {
        "colab": {
          "base_uri": "https://localhost:8080/"
        },
        "id": "_LEqKu-2Kxj_",
        "outputId": "7067f047-e069-4c22-cb39-d41f563a6202"
      },
      "execution_count": 3,
      "outputs": [
        {
          "output_type": "stream",
          "name": "stdout",
          "text": [
            "Optimal Values: {'s1': 0.9, 's2': 1.0, 's3': 1.0, 'terminal': 0}\n",
            "Optimal Policy: {'s1': 'a2', 's2': 'a2', 's3': 'a1', 'terminal': None}\n"
          ]
        }
      ]
    },
    {
      "cell_type": "code",
      "source": [],
      "metadata": {
        "id": "1Kh4yyzNK5EG"
      },
      "execution_count": null,
      "outputs": []
    }
  ]
}